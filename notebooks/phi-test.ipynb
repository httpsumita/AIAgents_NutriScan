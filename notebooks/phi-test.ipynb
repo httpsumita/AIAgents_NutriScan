{
 "cells": [
  {
   "cell_type": "code",
   "execution_count": 6,
   "metadata": {},
   "outputs": [
    {
     "data": {
      "text/plain": [
       "True"
      ]
     },
     "execution_count": 6,
     "metadata": {},
     "output_type": "execute_result"
    }
   ],
   "source": [
    "from phi.assistant import Assistant\n",
    "from phi.tools.duckduckgo import DuckDuckGo\n",
    "from phi.llm.groq import Groq\n",
    "from dotenv import load_dotenv\n",
    "import json\n",
    "\n",
    "load_dotenv()"
   ]
  },
  {
   "cell_type": "code",
   "execution_count": 7,
   "metadata": {},
   "outputs": [
    {
     "data": {
      "application/vnd.jupyter.widget-view+json": {
       "model_id": "d4d7a381072040a993a5443f3eb332a0",
       "version_major": 2,
       "version_minor": 0
      },
      "text/plain": [
       "Output()"
      ]
     },
     "metadata": {},
     "output_type": "display_data"
    },
    {
     "data": {
      "text/html": [
       "<pre style=\"white-space:pre;overflow-x:auto;line-height:normal;font-family:Menlo,'DejaVu Sans Mono',consolas,'Courier New',monospace\"></pre>\n"
      ],
      "text/plain": []
     },
     "metadata": {},
     "output_type": "display_data"
    }
   ],
   "source": [
    "assistant = Assistant(\n",
    "    llm=Groq(model=\"mixtral-8x7b-32768\"),\n",
    "    tools=[DuckDuckGo()],\n",
    "    show_tool_calls=True,\n",
    "    description=\"You are diet research expert and your job is to research and tell the ingredients list along with their composition of any given product.\",\n",
    "    instructions=[\n",
    "        \"Provide the response strictly in the following JSON format:\",\n",
    "        \"\"\"\n",
    "        {\n",
    "          \"product_name\": \"<Product Name>\",\n",
    "          \"ingredients\": [\n",
    "            {\n",
    "              \"name\": \"<Ingredient 1>\",\n",
    "              \"composition\": \"<X%>\"\n",
    "            },\n",
    "            {\n",
    "              \"name\": \"<Ingredient 2>\",\n",
    "              \"composition\": \"<Y%>\"\n",
    "            }\n",
    "            // Add more ingredients as needed\n",
    "          ]\n",
    "        }\n",
    "        \"\"\"\n",
    "    \n",
    "               \n",
    "    # debug_mode=True,\n",
    "    ]\n",
    ")\n",
    "response=assistant.print_response(\"Lays Ingredients list with composition\", markdown=True)\n",
    "\n"
   ]
  },
  {
   "cell_type": "code",
   "execution_count": null,
   "metadata": {},
   "outputs": [],
   "source": []
  }
 ],
 "metadata": {
  "kernelspec": {
   "display_name": "Python 3",
   "language": "python",
   "name": "python3"
  },
  "language_info": {
   "codemirror_mode": {
    "name": "ipython",
    "version": 3
   },
   "file_extension": ".py",
   "mimetype": "text/x-python",
   "name": "python",
   "nbconvert_exporter": "python",
   "pygments_lexer": "ipython3",
   "version": "3.12.1"
  }
 },
 "nbformat": 4,
 "nbformat_minor": 2
}
