{
 "cells": [
  {
   "cell_type": "code",
   "execution_count": 4,
   "metadata": {},
   "outputs": [
    {
     "data": {
      "text/plain": [
       "True"
      ]
     },
     "execution_count": 4,
     "metadata": {},
     "output_type": "execute_result"
    }
   ],
   "source": [
    "from phi.assistant import Assistant\n",
    "from phi.tools.duckduckgo import DuckDuckGo\n",
    "from phi.llm.groq import Groq\n",
    "from dotenv import load_dotenv\n",
    "import json\n",
    "\n",
    "load_dotenv()"
   ]
  },
  {
   "cell_type": "code",
   "execution_count": 2,
   "metadata": {},
   "outputs": [
    {
     "data": {
      "application/vnd.jupyter.widget-view+json": {
       "model_id": "6095fe36d2f04e5f88aaada929966544",
       "version_major": 2,
       "version_minor": 0
      },
      "text/plain": [
       "Output()"
      ]
     },
     "metadata": {},
     "output_type": "display_data"
    },
    {
     "data": {
      "text/html": [
       "<pre style=\"white-space:pre;overflow-x:auto;line-height:normal;font-family:Menlo,'DejaVu Sans Mono',consolas,'Courier New',monospace\"></pre>\n"
      ],
      "text/plain": []
     },
     "metadata": {},
     "output_type": "display_data"
    }
   ],
   "source": [
    "assistant = Assistant(\n",
    "    llm=Groq(model=\"llama-3.1-70b-versatile\"),\n",
    "    tools=[DuckDuckGo()],\n",
    "    description=\"You are diet research expert and your job is to research and tell the ingredients list along with their composition of any given product in a specific JSON format.\",\n",
    "    instructions=[\n",
    "        \"Provide the response strictly in the following JSON format without any pretextor disclaimer\",\n",
    "        \"\"\"Required Output format: \"{\\\"product_name\\\":\\\"<ProductName>\\\",\\\"ingredients\\\":[{\\\"name\\\":\\\"<Ingredient1>\\\",\\\"composition\\\":\\\"<X%>\\\"},{\\\"name\\\":\\\"<Ingredient2>\\\",\\\"composition\\\":\\\"<Y%>\\\"}]}\" \"\"\",\n",
    "        \"Add more ingredients as needed but in a JSON format\",\n",
    "        \"dont add any pretext. Only \"\n",
    "    ],\n",
    "    # debug_mode=True\n",
    ")\n",
    "assistant.print_response(\"Lays Ingredients list\", markdown=True)"
   ]
  },
  {
   "cell_type": "code",
   "execution_count": null,
   "metadata": {},
   "outputs": [],
   "source": []
  }
 ],
 "metadata": {
  "kernelspec": {
   "display_name": "Python 3",
   "language": "python",
   "name": "python3"
  },
  "language_info": {
   "codemirror_mode": {
    "name": "ipython",
    "version": 3
   },
   "file_extension": ".py",
   "mimetype": "text/x-python",
   "name": "python",
   "nbconvert_exporter": "python",
   "pygments_lexer": "ipython3",
   "version": "3.12.1"
  }
 },
 "nbformat": 4,
 "nbformat_minor": 2
}
